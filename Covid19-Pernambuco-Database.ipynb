{
 "cells": [
  {
   "cell_type": "markdown",
   "metadata": {},
   "source": [
    "## Extração de dados sobre o coronavírus\n",
    "\n",
    "### Dados da Secretaria de Saúde de Pernambuco\n"
   ]
  },
  {
   "cell_type": "code",
   "execution_count": 1,
   "metadata": {},
   "outputs": [],
   "source": [
    "import requests\n",
    "from bs4 import BeautifulSoup\n",
    "from pathlib import Path\n",
    "import pandas as pd\n",
    "import tabula"
   ]
  },
  {
   "cell_type": "markdown",
   "metadata": {},
   "source": [
    "### Pegando informações da página\n",
    "\n",
    "Primeiro vamos pegar o código da página da Secretaria de Saúde\n",
    "\n",
    "No caso da Secretaria de Pernambuco, os links de interesse ficam na\n",
    "tag **h1**. Por isso iremos buscar por elas no documento."
   ]
  },
  {
   "cell_type": "code",
   "execution_count": 2,
   "metadata": {},
   "outputs": [],
   "source": [
    "url = 'https://www.cievspe.com/novo-coronavirus-2019-ncov'\n",
    "\n",
    "html = requests.get(url)\n",
    "soup = BeautifulSoup(html.text, 'html.parser')\n",
    "\n",
    "\n",
    "h1 = soup.find_all('h1', 'font_0')"
   ]
  },
  {
   "cell_type": "markdown",
   "metadata": {},
   "source": [
    "### Fazendo download do arquivo\n",
    "\n",
    "Após criar uma lista com todos os H1s do site, iteramos procurando \n",
    "o conteúdo da tag **span**, pois nela estão os nomes dos arquivos que\n",
    "queremos baixar.\n",
    "\n",
    "Ao encontrar o arquivo **Informe Epidemiológico Coronavírus (COVID-19)**, \n",
    "que possui uma numeração com a atualização, fazemos o dowload do \n",
    "PDF que será tratado posteriormente."
   ]
  },
  {
   "cell_type": "code",
   "execution_count": 4,
   "metadata": {},
   "outputs": [
    {
     "name": "stdout",
     "output_type": "stream",
     "text": [
      "20/03/2020 Informe Epidemiológico Coronavírus (COVID-19) | Nº 19 - Pernambuco\n",
      "https://12ad4c92-89c7-4218-9e11-0ee136fa4b92.filesusr.com/ugd/3293a8_bb922dee19844ac7b24fe5649aa692a0.pdf\n"
     ]
    }
   ],
   "source": [
    "for span in h1:\n",
    "    if span.find('span') is not None:\n",
    "        if 'Informe Epidemiológico Coronavírus (COVID-19)' in span.text:\n",
    "            print(span.text)\n",
    "            print(span.find('a')['href'])\n",
    "            filename = Path('covid19_pe.pdf')\n",
    "            url = span.find('a')['href']\n",
    "            response = requests.get(url)\n",
    "            filename.write_bytes(response.content)\n"
   ]
  },
  {
   "cell_type": "markdown",
   "metadata": {},
   "source": [
    " Abaixo está a conversão da tabela em PDF para o formato CSV.\n",
    " \n",
    " * Tabula é uma biblioteca que lê a tabela magicamente \n",
    " * 4 é a página que tem a tabela de interesse\n",
    " "
   ]
  },
  {
   "cell_type": "code",
   "execution_count": 10,
   "metadata": {},
   "outputs": [],
   "source": [
    "tabula.convert_into(\"covid19_pe.pdf\", \"covid19_pe.csv\", output_format=\"csv\", pages=4)\n",
    "\n",
    "df = pd.read_csv('covid19_pe.csv')"
   ]
  },
  {
   "cell_type": "markdown",
   "metadata": {},
   "source": [
    "### Tratando os dados da tabela\n",
    "\n",
    "Após criar o CSV com os dados, precisamos trocar os nomes das colunas\n",
    "de números (1 a 6) para algo mais explícito. Após isso, salvamos as\n",
    "informações no CSV novamente."
   ]
  },
  {
   "cell_type": "code",
   "execution_count": 11,
   "metadata": {},
   "outputs": [],
   "source": [
    "df = df.T.reset_index(drop=True).T\n",
    "df = df.drop([0,1])\n",
    "df = df.iloc[ :,1:]\n",
    "\n",
    "df = df.rename(columns={1:'MUNICÍPIO', 2:'SUSPEITO', 3:'PROVÁVEL', 4:'CONFIRMADO', 5:'DESCARTADO', 6:'TOTAL'})\n",
    "\n",
    "cols = ['SUSPEITO', 'PROVÁVEL', 'CONFIRMADO', 'DESCARTADO', 'TOTAL']\n",
    "for col in cols:\n",
    "    df[col] = df[col].map(lambda x: str(x).lstrip('*').rstrip('*'))\n",
    "    \n",
    "df['MUNICÍPIO'] = df['MUNICÍPIO'].map(lambda x: str(x).replace('\\n', ' '))\n",
    "df = df.sort_values(['MUNICÍPIO'], ascending=1)\n",
    "df = df.reset_index(drop=True)\n"
   ]
  },
  {
   "cell_type": "code",
   "execution_count": 12,
   "metadata": {},
   "outputs": [
    {
     "data": {
      "text/html": [
       "<div>\n",
       "<style scoped>\n",
       "    .dataframe tbody tr th:only-of-type {\n",
       "        vertical-align: middle;\n",
       "    }\n",
       "\n",
       "    .dataframe tbody tr th {\n",
       "        vertical-align: top;\n",
       "    }\n",
       "\n",
       "    .dataframe thead th {\n",
       "        text-align: right;\n",
       "    }\n",
       "</style>\n",
       "<table border=\"1\" class=\"dataframe\">\n",
       "  <thead>\n",
       "    <tr style=\"text-align: right;\">\n",
       "      <th></th>\n",
       "      <th>MUNICÍPIO</th>\n",
       "      <th>SUSPEITO</th>\n",
       "      <th>PROVÁVEL</th>\n",
       "      <th>CONFIRMADO</th>\n",
       "      <th>DESCARTADO</th>\n",
       "      <th>TOTAL</th>\n",
       "    </tr>\n",
       "  </thead>\n",
       "  <tbody>\n",
       "    <tr>\n",
       "      <th>0</th>\n",
       "      <td>Abreu e Lima</td>\n",
       "      <td>6</td>\n",
       "      <td>0</td>\n",
       "      <td>0</td>\n",
       "      <td>1</td>\n",
       "      <td>7</td>\n",
       "    </tr>\n",
       "    <tr>\n",
       "      <th>1</th>\n",
       "      <td>Barreiros</td>\n",
       "      <td>1</td>\n",
       "      <td>0</td>\n",
       "      <td>0</td>\n",
       "      <td>1</td>\n",
       "      <td>2</td>\n",
       "    </tr>\n",
       "    <tr>\n",
       "      <th>2</th>\n",
       "      <td>Belo Jardim</td>\n",
       "      <td>0</td>\n",
       "      <td>0</td>\n",
       "      <td>1</td>\n",
       "      <td>0</td>\n",
       "      <td>1</td>\n",
       "    </tr>\n",
       "    <tr>\n",
       "      <th>3</th>\n",
       "      <td>Bezerros</td>\n",
       "      <td>1</td>\n",
       "      <td>0</td>\n",
       "      <td>0</td>\n",
       "      <td>0</td>\n",
       "      <td>1</td>\n",
       "    </tr>\n",
       "    <tr>\n",
       "      <th>4</th>\n",
       "      <td>Cabo de Santo Agostinho</td>\n",
       "      <td>4</td>\n",
       "      <td>0</td>\n",
       "      <td>0</td>\n",
       "      <td>0</td>\n",
       "      <td>4</td>\n",
       "    </tr>\n",
       "  </tbody>\n",
       "</table>\n",
       "</div>"
      ],
      "text/plain": [
       "                 MUNICÍPIO SUSPEITO PROVÁVEL CONFIRMADO DESCARTADO TOTAL\n",
       "0             Abreu e Lima        6        0          0          1     7\n",
       "1                Barreiros        1        0          0          1     2\n",
       "2              Belo Jardim        0        0          1          0     1\n",
       "3                 Bezerros        1        0          0          0     1\n",
       "4  Cabo de Santo Agostinho        4        0          0          0     4"
      ]
     },
     "execution_count": 12,
     "metadata": {},
     "output_type": "execute_result"
    }
   ],
   "source": [
    "df.to_csv('covid19_pe.csv')\n",
    "\n",
    "df.head()"
   ]
  },
  {
   "cell_type": "code",
   "execution_count": null,
   "metadata": {},
   "outputs": [],
   "source": []
  }
 ],
 "metadata": {
  "kernelspec": {
   "display_name": "Python 3",
   "language": "python",
   "name": "python3"
  },
  "language_info": {
   "codemirror_mode": {
    "name": "ipython",
    "version": 3
   },
   "file_extension": ".py",
   "mimetype": "text/x-python",
   "name": "python",
   "nbconvert_exporter": "python",
   "pygments_lexer": "ipython3",
   "version": "3.6.9"
  }
 },
 "nbformat": 4,
 "nbformat_minor": 2
}
